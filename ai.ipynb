{
 "cells": [
  {
   "cell_type": "markdown",
   "id": "a111752e",
   "metadata": {},
   "source": [
    "Personalized Advisory using AI"
   ]
  },
  {
   "cell_type": "code",
   "execution_count": 15,
   "id": "98adc739",
   "metadata": {},
   "outputs": [],
   "source": [
    "import json\n",
    "import os\n",
    "import faiss\n",
    "import numpy as np\n",
    "from langchain.text_splitter import RecursiveCharacterTextSplitter\n",
    "from langchain.prompts import ChatPromptTemplate\n",
    "from langchain_google_genai import ChatGoogleGenerativeAI\n",
    "from sentence_transformers import SentenceTransformer\n",
    "from dotenv import load_dotenv"
   ]
  },
  {
   "cell_type": "code",
   "execution_count": 16,
   "id": "2e2642df",
   "metadata": {},
   "outputs": [],
   "source": [
    "load_dotenv()\n",
    "GOOGLE_API_KEY = os.getenv(\"GOOGLE_API_KEY\")\n",
    "\n",
    "if not GOOGLE_API_KEY:\n",
    "    raise ValueError(\"GOOGLE_API_KEY not found. Please set it in your .env file.\")"
   ]
  },
  {
   "cell_type": "code",
   "execution_count": 17,
   "id": "de276efe",
   "metadata": {},
   "outputs": [],
   "source": [
    "local_embedder = SentenceTransformer(\"all-MiniLM-L6-v2\")"
   ]
  },
  {
   "cell_type": "code",
   "execution_count": 34,
   "id": "869f36bb",
   "metadata": {},
   "outputs": [],
   "source": [
    "llm = ChatGoogleGenerativeAI(\n",
    "    model=\"gemini-2.5-pro\",\n",
    "    temperature=0.4,\n",
    "    google_api_key=GOOGLE_API_KEY\n",
    ")"
   ]
  },
  {
   "cell_type": "code",
   "execution_count": 42,
   "id": "dd8756fb",
   "metadata": {},
   "outputs": [],
   "source": [
    "json_input = {\n",
    "    \"farmer\": {\n",
    "        \"_id\": \"68c056c710e11c03ad5665fa\",\n",
    "        \"name\": \"Priya Verma\",\n",
    "        \"phoneNumber\": \"9988776655\",\n",
    "        \"location\": \"Pune, Maharashtra\",\n",
    "        \"createdAt\": \"2025-09-09T16:33:11.810Z\",\n",
    "        \"__v\": 0\n",
    "    },\n",
    "    \"farms\": [\n",
    "        {\n",
    "            \"activities\": [],\n",
    "            \"_id\": \"68c0582e10e11c03ad56660a\",\n",
    "            \"farmer\": \"68c056c710e11c03ad5665fa\",\n",
    "            \"sizeInAcres\": 7.8,\n",
    "            \"soilType\": \"Sandy\",\n",
    "            \"irrigation\": \"Sprinkler\",\n",
    "            \"location\": \"Pune, Maharashtra\",\n",
    "            \"crops\": [\n",
    "                \"Rice\",\n",
    "                \"Vegetables\"\n",
    "            ],\n",
    "            \"createdAt\": \"2025-09-09T16:39:10.892Z\",\n",
    "            \"__v\": 0\n",
    "        }\n",
    "    ],\n",
    "    \"reminders\": [\n",
    "        {\n",
    "            \"_id\": \"68c05a5810e11c03ad566619\",\n",
    "            \"farmer\": \"68c056c710e11c03ad5665fa\",\n",
    "            \"message\": \"Schedule pest control treatment next week\",\n",
    "            \"dueDate\": \"2025-09-18T09:30:00.000Z\",\n",
    "            \"createdAt\": \"2025-09-09T16:48:24.179Z\",\n",
    "            \"__v\": 0\n",
    "        }\n",
    "    ]\n",
    "}"
   ]
  },
  {
   "cell_type": "code",
   "execution_count": 43,
   "id": "747ffff7",
   "metadata": {},
   "outputs": [],
   "source": [
    "context_text = json.dumps(json_input, indent=2)"
   ]
  },
  {
   "cell_type": "code",
   "execution_count": 44,
   "id": "080832ab",
   "metadata": {},
   "outputs": [],
   "source": [
    "splitter = RecursiveCharacterTextSplitter(chunk_size=200, chunk_overlap=50)\n",
    "chunks = splitter.split_text(context_text)"
   ]
  },
  {
   "cell_type": "code",
   "execution_count": 45,
   "id": "6277ea89",
   "metadata": {},
   "outputs": [],
   "source": [
    "embeddings = [local_embedder.encode(chunk) for chunk in chunks]\n",
    "index = faiss.IndexFlatL2(len(embeddings[0]))\n",
    "index.add(np.array(embeddings).astype(\"float32\"))\n"
   ]
  },
  {
   "cell_type": "code",
   "execution_count": 46,
   "id": "19a886cb",
   "metadata": {},
   "outputs": [],
   "source": [
    "prompt_template = ChatPromptTemplate.from_template(\n",
    "    \"\"\"\n",
    "You are an agricultural advisory assistant.\n",
    "Use the given context to provide polite, friendly, and practical advice for the farmer.\n",
    "Keep the answer short, clear, and actionable.\n",
    "\n",
    "Context:\n",
    "{context}\n",
    "\n",
    "Farmer's Question: {question}\n",
    "\n",
    "Advisory:\n",
    "\"\"\"\n",
    ")"
   ]
  },
  {
   "cell_type": "code",
   "execution_count": 47,
   "id": "b486d342",
   "metadata": {},
   "outputs": [],
   "source": [
    "def retrieve_answer(question: str):\n",
    "    # Embed query\n",
    "    query_emb = local_embedder.encode(question)\n",
    "    # Only retrieve top 1 chunk instead of 2\n",
    "    D, I = index.search(np.array([query_emb]).astype(\"float32\"), k=1)\n",
    "    retrieved_chunks = [chunks[i] for i in I[0]]\n",
    "    context = \"\\n\".join(retrieved_chunks)\n",
    "\n",
    "\n",
    "    # Format final prompt\n",
    "    prompt = prompt_template.format(context=context, question=question)\n",
    "\n",
    "    # Gemini response\n",
    "    response = llm.predict(prompt)\n",
    "    return response"
   ]
  },
  {
   "cell_type": "code",
   "execution_count": 48,
   "id": "38887853",
   "metadata": {},
   "outputs": [
    {
     "name": "stdout",
     "output_type": "stream",
     "text": [
      "Farmer Advisory:\n",
      " Hello! Happy to help with your brinjal crop in Pune.\n",
      "\n",
      "To give you the best advice, we first need to know what problem you are trying to solve.\n",
      "\n",
      "**1. Inspect Your Plants First:**\n",
      "Please take a close look at your brinjal plants for any of these common signs:\n",
      "*   **Wilting shoots** or **small holes in the fruit** (This could be Fruit and Shoot Borer).\n",
      "*   **Curled, yellow, or sticky leaves** (Check under the leaves for small insects like aphids or whiteflies).\n",
      "*   **White powdery spots** on the leaves (This might be Powdery Mildew).\n",
      "\n",
      "**2. General Spraying Tips:**\n",
      "*   **Best Time:** Always spray in the **early morning or late evening** when the sun is not strong.\n",
      "*   **Weather:** Avoid spraying on windy or rainy days.\n",
      "*   **Coverage:** Make sure to spray thoroughly, including the underside of the leaves.\n",
      "\n",
      "Let me know what you find on your plants, and I can suggest a more specific and effective solution for you\n"
     ]
    }
   ],
   "source": [
    "if __name__ == \"__main__\":\n",
    "    question = \"What should I do about spraying on my brinjal crop?\"\n",
    "    answer = retrieve_answer(question)\n",
    "    print(\"Farmer Advisory:\\n\", answer)"
   ]
  },
  {
   "cell_type": "code",
   "execution_count": null,
   "id": "4b9cebca",
   "metadata": {},
   "outputs": [],
   "source": []
  }
 ],
 "metadata": {
  "kernelspec": {
   "display_name": "rag-env",
   "language": "python",
   "name": "python3"
  },
  "language_info": {
   "codemirror_mode": {
    "name": "ipython",
    "version": 3
   },
   "file_extension": ".py",
   "mimetype": "text/x-python",
   "name": "python",
   "nbconvert_exporter": "python",
   "pygments_lexer": "ipython3",
   "version": "3.13.5"
  }
 },
 "nbformat": 4,
 "nbformat_minor": 5
}
